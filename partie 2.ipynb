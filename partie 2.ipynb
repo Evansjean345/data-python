{
  "cells": [
    {
      "cell_type": "code",
      "source": [
        "#question 4 partie1/2\n",
        "\n",
        "import pandas as pd\n",
        "import numpy as np\n",
        "exam_data = {'name': ['Anastasia', 'Dima', 'Katherine', 'James', 'Emily', 'Michael', 'Matthew', 'Laura', 'Kevin', 'Jonas'],\n",
        "'score': [12.5, 9, 16.5, np.nan, 9, 20, 14.5, np.nan, 8, 19],\n",
        "'attempts': [1, 3, 2, 3, 2, 3, 1, 1, 2, 1],\n",
        "'qualify': ['yes', 'no', 'yes', 'no', 'no', 'yes', 'yes', 'no', 'no', 'yes']}\n",
        "\n",
        "labels = ['a', 'b', 'c', 'd', 'e', 'f', 'g', 'h', 'i', 'j']\n",
        "\n",
        "data_table= pd.DataFrame( exam_data , index=labels )\n",
        "print(\"dans ce programme ci-dessous nous remarquons que en ajoutant une nouvelle ligne les index changent :\")\n",
        "print(\"------------------------------------------------------\")\n",
        "new=data_table.append({'name': \"Suresh\", 'score': 15.5, 'attempts': 1, 'qualify': \"yes\"},ignore_index=True)\n",
        "print(new)"
      ],
      "metadata": {
        "id": "-BtnU32lNehs",
        "outputId": "7f8df17f-57de-4ac0-ff88-469098a62dc1",
        "colab": {
          "base_uri": "https://localhost:8080/"
        }
      },
      "execution_count": 15,
      "outputs": [
        {
          "output_type": "stream",
          "name": "stdout",
          "text": [
            "dans ce programme ci-dessous nous remarquons que en ajoutant une nouvelle ligne les index changent :\n",
            "------------------------------------------------------\n",
            "         name  score  attempts qualify\n",
            "0   Anastasia   12.5         1     yes\n",
            "1        Dima    9.0         3      no\n",
            "2   Katherine   16.5         2     yes\n",
            "3       James    NaN         3      no\n",
            "4       Emily    9.0         2      no\n",
            "5     Michael   20.0         3     yes\n",
            "6     Matthew   14.5         1     yes\n",
            "7       Laura    NaN         1      no\n",
            "8       Kevin    8.0         2      no\n",
            "9       Jonas   19.0         1     yes\n",
            "10     Suresh   15.5         1     yes\n"
          ]
        }
      ]
    },
    {
      "cell_type": "code",
      "source": [
        "#question 2 partie2/2 \n",
        "import pandas as pd\n",
        "import numpy as np\n",
        "\n",
        "print(\"Pour resoudre le probleme rencontrer dans la question 2 nous allons alors ajouter les valeurs statistiquement :\")\n",
        "print(\"------------------------------------------------------\")\n",
        "exam_data = {'name': ['Anastasia', 'Dima', 'Katherine', 'James', 'Emily', 'Michael', 'Matthew', 'Laura', 'Kevin', 'Jonas' , 'Suresh'],\n",
        "'score': [12.5, 9, 16.5, np.nan, 9, 20, 14.5, np.nan, 8, 19 ,15.5],\n",
        "'attempts': [1, 3, 2, 3, 2, 3, 1, 1, 2, 1 , 1],\n",
        "'qualify': ['yes', 'no', 'yes', 'no', 'no', 'yes', 'yes', 'no', 'no', 'yes' , 'yes']}\n",
        "\n",
        "labels = ['a', 'b', 'c', 'd', 'e', 'f', 'g', 'h', 'i', 'j',\"k\"]\n",
        "data_table= pd.DataFrame( exam_data , index=labels )\n",
        "print(data_table)"
      ],
      "metadata": {
        "id": "HxcwqsMaP4eU",
        "outputId": "fa207cae-0e0a-409e-9b88-91df1f17d1a0",
        "colab": {
          "base_uri": "https://localhost:8080/"
        }
      },
      "execution_count": 13,
      "outputs": [
        {
          "output_type": "stream",
          "name": "stdout",
          "text": [
            "Pour resoudre le probleme rencontrer dans la question 2 nous allons alors ajouter les valeurs statistiquement :\n",
            "------------------------------------------------------\n",
            "        name  score  attempts qualify\n",
            "a  Anastasia   12.5         1     yes\n",
            "b       Dima    9.0         3      no\n",
            "c  Katherine   16.5         2     yes\n",
            "d      James    NaN         3      no\n",
            "e      Emily    9.0         2      no\n",
            "f    Michael   20.0         3     yes\n",
            "g    Matthew   14.5         1     yes\n",
            "h      Laura    NaN         1      no\n",
            "i      Kevin    8.0         2      no\n",
            "j      Jonas   19.0         1     yes\n",
            "k     Suresh   15.5         1     yes\n"
          ]
        }
      ]
    },
    {
      "cell_type": "code",
      "source": [
        "#question 5\n",
        "import pandas as pd\n",
        "import numpy as np\n",
        "\n",
        "exam_data = {'name': ['Anastasia', 'Dima', 'Katherine', 'James', 'Emily', 'Michael', 'Matthew', 'Laura', 'Kevin', 'Jonas' , 'Suresh'],\n",
        "'score': [12.5, 9, 16.5, np.nan, 9, 20, 14.5, np.nan, 8, 19 ,15.5],\n",
        "'attempts': [1, 3, 2, 3, 2, 3, 1, 1, 2, 1 , 1],\n",
        "'qualify': ['yes', 'no', 'yes', 'no', 'no', 'yes', 'yes', 'no', 'no', 'yes' , 'yes']}\n",
        "\n",
        "labels = ['a', 'b', 'c', 'd', 'e', 'f', 'g', 'h', 'i', 'j',\"k\"]\n",
        "data_table= pd.DataFrame( exam_data , index=labels )\n",
        "print(data_table)\n",
        "print(\"------------------------------------------------------\")\n",
        "print('suppression de la colonne des tenatives :')\n",
        "print(\"------------------------------------------------------\")\n",
        "data_table.drop(columns=[\"attempts\"],inplace=True)\n",
        "print(data_table)"
      ],
      "metadata": {
        "id": "mGoSkBKdR8va",
        "outputId": "4b735850-a236-41cc-8cea-32028512259d",
        "colab": {
          "base_uri": "https://localhost:8080/"
        }
      },
      "execution_count": 19,
      "outputs": [
        {
          "output_type": "stream",
          "name": "stdout",
          "text": [
            "        name  score  attempts qualify\n",
            "a  Anastasia   12.5         1     yes\n",
            "b       Dima    9.0         3      no\n",
            "c  Katherine   16.5         2     yes\n",
            "d      James    NaN         3      no\n",
            "e      Emily    9.0         2      no\n",
            "f    Michael   20.0         3     yes\n",
            "g    Matthew   14.5         1     yes\n",
            "h      Laura    NaN         1      no\n",
            "i      Kevin    8.0         2      no\n",
            "j      Jonas   19.0         1     yes\n",
            "k     Suresh   15.5         1     yes\n",
            "------------------------------------------------------\n",
            "suppression de la colonne des tenatives :\n",
            "------------------------------------------------------\n",
            "        name  score qualify\n",
            "a  Anastasia   12.5     yes\n",
            "b       Dima    9.0      no\n",
            "c  Katherine   16.5     yes\n",
            "d      James    NaN      no\n",
            "e      Emily    9.0      no\n",
            "f    Michael   20.0     yes\n",
            "g    Matthew   14.5     yes\n",
            "h      Laura    NaN      no\n",
            "i      Kevin    8.0      no\n",
            "j      Jonas   19.0     yes\n",
            "k     Suresh   15.5     yes\n"
          ]
        }
      ]
    },
    {
      "cell_type": "code",
      "source": [
        "#question 6\n",
        "import pandas as pd\n",
        "import numpy as np\n",
        "\n",
        "exam_data = {'name': ['Anastasia', 'Dima', 'Katherine', 'James', 'Emily', 'Michael', 'Matthew', 'Laura', 'Kevin', 'Jonas' , 'Suresh'],\n",
        "'score': [12.5, 9, 16.5, np.nan, 9, 20, 14.5, np.nan, 8, 19 ,15.5],\n",
        "'attempts': [1, 3, 2, 3, 2, 3, 1, 1, 2, 1 , 1],\n",
        "'qualify': ['yes', 'no', 'yes', 'no', 'no', 'yes', 'yes', 'no', 'no', 'yes' , 'yes']}\n",
        "\n",
        "labels = ['a', 'b', 'c', 'd', 'e', 'f', 'g', 'h', 'i', 'j',\"k\"]\n",
        "data_table= pd.DataFrame( exam_data , index=labels )\n",
        "print(\"verificatin des differentes valeurs de score avant d'ajouter mon dataframe\")\n",
        "print(\"------------------------------------------------------\")\n",
        "print(data_table[\"score\"] > 10)\n",
        "print(\"------------------------------------------------------\")\n",
        "print(\"assination de ma nouvelle colonne success\")\n",
        "print(\"------------------------------------------------------\")\n",
        "final_table= data_table.assign(Success=[1,0,1,0,0,1,1,0,0,1,1])\n",
        "print(final_table)\n",
        "print(\"------------------------------------------------------\")\n"
      ],
      "metadata": {
        "id": "88gc-UruTtga",
        "outputId": "36cd10c6-924e-484c-9a86-8db433bd7e6c",
        "colab": {
          "base_uri": "https://localhost:8080/"
        }
      },
      "execution_count": 18,
      "outputs": [
        {
          "output_type": "stream",
          "name": "stdout",
          "text": [
            "verificatin des differentes valeurs de score avant d'ajouter mon dataframe\n",
            "------------------------------------------------------\n",
            "a     True\n",
            "b    False\n",
            "c     True\n",
            "d    False\n",
            "e    False\n",
            "f     True\n",
            "g     True\n",
            "h    False\n",
            "i    False\n",
            "j     True\n",
            "k     True\n",
            "Name: score, dtype: bool\n",
            "------------------------------------------------------\n",
            "assination de ma nouvelle colonne success\n",
            "------------------------------------------------------\n",
            "        name  score  attempts qualify  Success\n",
            "a  Anastasia   12.5         1     yes        1\n",
            "b       Dima    9.0         3      no        0\n",
            "c  Katherine   16.5         2     yes        1\n",
            "d      James    NaN         3      no        0\n",
            "e      Emily    9.0         2      no        0\n",
            "f    Michael   20.0         3     yes        1\n",
            "g    Matthew   14.5         1     yes        1\n",
            "h      Laura    NaN         1      no        0\n",
            "i      Kevin    8.0         2      no        0\n",
            "j      Jonas   19.0         1     yes        1\n",
            "k     Suresh   15.5         1     yes        1\n",
            "------------------------------------------------------\n"
          ]
        }
      ]
    }
  ],
  "metadata": {
    "colab": {
      "collapsed_sections": [],
      "name": "Bienvenue dans Colaboratory",
      "toc_visible": true,
      "provenance": []
    },
    "kernelspec": {
      "display_name": "Python 3",
      "name": "python3"
    }
  },
  "nbformat": 4,
  "nbformat_minor": 0
}